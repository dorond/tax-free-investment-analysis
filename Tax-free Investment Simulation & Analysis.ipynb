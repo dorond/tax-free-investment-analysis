{
 "cells": [
  {
   "cell_type": "markdown",
   "metadata": {},
   "source": [
    "# Overview"
   ]
  },
  {
   "cell_type": "markdown",
   "metadata": {},
   "source": [
    "In a few months time, I'm going to become a dad for the first time and with that, all the usual concerns about long-term financial security have come to the forefront of my mind. For some time I've heard about the option of tax-free investments but thus far have been slow to look into them and the savings potential they offer my family. \n",
    "\n",
    "This project aims to use the power of data science to first: generate millions of combinations of investments that abide by the tax-free savings rules and then: analyse those investments to understand how one can optimise them for specific savings goals such as a child's future education or wedding, our retirement or rainy day planning.\n",
    "\n",
    "There are numerous online calculators where one can play around with individual lump sum amounts, monthly contributions and risk tolerances, however using these tools is cumbersome because one can't play around with every possible combination so you don't know if you are missing out on the \"best\" combination that would maximise your investment. Also it's useful to have a wider appreciation for how these parameters affect the investment generally, which these tools don't offer.\n",
    "\n",
    "Here then, I'd like to first provide general understanding about how these parameters affect your investment and then bring it all together and show you options for savings specific goal amounts, i.e. R250K, R500K, R1M, R2M, R5M and R10M. I chose these amounts because they represent goals that range from medium-term expenses such as paying for a wedding all the way to retirement and even financial freedom. \n",
    "\n",
    "We'll look at what's possible and what's not possible and at the end of the analysis I'll provide a free pdf report that you can keep with you when you are comparing options from various financial institutions as knowing what's possible will make comparisons more precise. "
   ]
  },
  {
   "cell_type": "markdown",
   "metadata": {},
   "source": [
    "# What are Tax-free Investments?"
   ]
  },
  {
   "cell_type": "markdown",
   "metadata": {},
   "source": [
    "From 1 March 2015, it become possible to invest in a class of products whose returns are not subject to any form of income tax, divident tax or capital gains tax. We refer to these as Tax-free investment products. They can be packaged together and provided by licensed banks, long-term insurers, mutual and co-operative banks and the government and their primary objective is to encourage and incentivise South Africa's to save. \n",
    "\n",
    "There are a rules surrounding a tax-free investment. These are as follows:\n",
    "- As of 1 March 2017, you can contribute a maximum of R33,000 per tax year. Any portion of unused annual limit is forfeited in that year. Each year resets and only allows R33,000 contribution. \n",
    "- There is a life time limit of R500,000 per person. \n",
    "- If a person exceeds the limits, there is a penalty of 40% of the excess amount.  Example: Taxpayer X invests R35,000 – exceeded the annual limit by R2,000, 40% of R2,000 = R800 must be paid to SARS. This penalty is added to the normal tax payable on assessment.\n",
    "- A person can have more than one tax free investment, however, you are limited to the annual limits per tax year. This means you can invest, for example, R11,000 in Old Mutual, R11,000 in Investec and R11,000 in Absa.  \n",
    "- Parents can invest on behalf of their minor child.  The minor child will use his/her own annual or lifetime limits. This means a family of four could each have an account allowing a total of R33,000 x 4 = R132,000 to be invested in a given year.\n",
    "- When returns on investment are added to the capital contributed, the balance may exceed both the annual and/or lifetime limit.  The re-investment of these returns within the account does not affect the annual or lifetime limit. Example: If you invest R33,000 for the year and receive a return of investment of R5,000, which you have chosen to re-invest, the total amount in the account will be R38,000. The following year, you will still be able to invest your full R33,000 for year.\n",
    "- However, where a person withdraws the returns and reinvests the same amount, that amount is regarded as a new contribution and impacts on both the annual and lifetime limits. Note that any withdrawals made cannot be replaced, be it returns or capital.\n",
    "- Tax free investment accounts cannot be used as transactional accounts.\n",
    "- Debit or stop orders and ATM transactions will not be possible from these accounts.\n",
    "- Only new accounts will qualify as the idea is to encourage new savings, in other words existing accounts may not be converted."
   ]
  },
  {
   "cell_type": "markdown",
   "metadata": {},
   "source": [
    "# Assumptions & Caveats"
   ]
  },
  {
   "cell_type": "markdown",
   "metadata": {},
   "source": [
    "With this kind of analysis, there has to be some assumptions made and some limitations in place. These are as follows:\n",
    "- All data generated assumes that the lump sum and monthly contributions used, will remain the same throughout the entire time horizon of the investment. Of course in real life, one might change their monthly contribution or add additional lump-sum payments when they have the funds. In this first version of the analysis I won't consider these cases but in a future analysis I would like to.\n",
    "- We are going to look at investment options that cover 5 risk categories namely low, low-medium, medium, medium-high and high. What represents these different risk categories is the expected return one can receive for the type of investment. I will be using values which I've borrowed from https://savetaxfree.co.za. I've also used their tax-free investment calculator to ensure the investments I generate are 100% accurate. The BIG caveat here is that these are idealised investments, i.e. if a high risk investment gives you an expected return of 18% per year, then you'd get this every year without fail. Of course this is completely untrue because real markets fluctuate and you may get more or less than this return in any given time period. As the risk goes up, so does the risk of not getting that return, so while this analysis will be accurate in the potential idealised value one **could** earn, it will be slightly inaccurate in the value one **will** earn. In a future version of this analysis, I would like to inject random noise that represents real market fluctuations.\n",
    "- Low-risk = Interest-bearing money-market funds yielding 7.21%\n",
    "- Low-medium risk = Multi-asset low equity funds yielding 9.93%\n",
    "- Medium risk = Multi-asset options using average of medium equity and high equity funds yielding 12.18%\n",
    "- Medium-high risk = Top 40 equity funds yielding 16.59%\n",
    "- High risk = Small and mid-cap equity funds yielding 18% \n",
    "- We'll assume that interest is compunded monthly at the end of each month. \n",
    "- We'll assume that returns will be reinvested into the fund without withdrawal, until the maturity date."
   ]
  },
  {
   "cell_type": "markdown",
   "metadata": {},
   "source": [
    "# Data Generation Process"
   ]
  },
  {
   "cell_type": "markdown",
   "metadata": {},
   "source": [
    "In order to generate real data for this analysis, I first generated combinations of investment using:\n",
    "- Time-horizon's that span 1 to 50 years into the future.\n",
    "- Lump sum's from R0 to R30,000 in R250 increments.\n",
    "- Monthly contributions from R0 to R,5000 in R50 increments.\n",
    "- Risks using the 5 mentioned previously. \n",
    "\n",
    "\n",
    "Then each possible combination of these options was used to generate a future value calculation of the investment. \n",
    "\n",
    "This led to a total of 3,055,250 investments, however not all of these are valid because they may violate either the R33,000 per year limit or the R500,000 lifetime contribution limit. \n",
    "\n",
    "After writing an algorithm that weeded out the invalid investments, we are left with 744,425 investments, plenty for us to analyse. "
   ]
  },
  {
   "cell_type": "code",
   "execution_count": 1,
   "metadata": {},
   "outputs": [],
   "source": [
    "import numpy as np\n",
    "import pandas as pd\n",
    "\n",
    "time_horizons = np.array([i for i in range(1, 51)])\n",
    "return_rates = np.array([0.0721, 0.0993, 0.1218, 0.1659, 0.18])\n",
    "lump_sums = np.array([i for i in range(0, 30250, 250)])\n",
    "monthly_contribs = np.array([i for i in range(0, 5050, 50)])"
   ]
  },
  {
   "cell_type": "code",
   "execution_count": 2,
   "metadata": {},
   "outputs": [
    {
     "data": {
      "text/plain": [
       "array([    0,   250,   500,   750,  1000,  1250,  1500,  1750,  2000,\n",
       "        2250,  2500,  2750,  3000,  3250,  3500,  3750,  4000,  4250,\n",
       "        4500,  4750,  5000,  5250,  5500,  5750,  6000,  6250,  6500,\n",
       "        6750,  7000,  7250,  7500,  7750,  8000,  8250,  8500,  8750,\n",
       "        9000,  9250,  9500,  9750, 10000, 10250, 10500, 10750, 11000,\n",
       "       11250, 11500, 11750, 12000, 12250, 12500, 12750, 13000, 13250,\n",
       "       13500, 13750, 14000, 14250, 14500, 14750, 15000, 15250, 15500,\n",
       "       15750, 16000, 16250, 16500, 16750, 17000, 17250, 17500, 17750,\n",
       "       18000, 18250, 18500, 18750, 19000, 19250, 19500, 19750, 20000,\n",
       "       20250, 20500, 20750, 21000, 21250, 21500, 21750, 22000, 22250,\n",
       "       22500, 22750, 23000, 23250, 23500, 23750, 24000, 24250, 24500,\n",
       "       24750, 25000, 25250, 25500, 25750, 26000, 26250, 26500, 26750,\n",
       "       27000, 27250, 27500, 27750, 28000, 28250, 28500, 28750, 29000,\n",
       "       29250, 29500, 29750, 30000])"
      ]
     },
     "execution_count": 2,
     "metadata": {},
     "output_type": "execute_result"
    }
   ],
   "source": [
    "lump_sums"
   ]
  },
  {
   "cell_type": "code",
   "execution_count": 3,
   "metadata": {},
   "outputs": [
    {
     "data": {
      "text/plain": [
       "array([   0,   50,  100,  150,  200,  250,  300,  350,  400,  450,  500,\n",
       "        550,  600,  650,  700,  750,  800,  850,  900,  950, 1000, 1050,\n",
       "       1100, 1150, 1200, 1250, 1300, 1350, 1400, 1450, 1500, 1550, 1600,\n",
       "       1650, 1700, 1750, 1800, 1850, 1900, 1950, 2000, 2050, 2100, 2150,\n",
       "       2200, 2250, 2300, 2350, 2400, 2450, 2500, 2550, 2600, 2650, 2700,\n",
       "       2750, 2800, 2850, 2900, 2950, 3000, 3050, 3100, 3150, 3200, 3250,\n",
       "       3300, 3350, 3400, 3450, 3500, 3550, 3600, 3650, 3700, 3750, 3800,\n",
       "       3850, 3900, 3950, 4000, 4050, 4100, 4150, 4200, 4250, 4300, 4350,\n",
       "       4400, 4450, 4500, 4550, 4600, 4650, 4700, 4750, 4800, 4850, 4900,\n",
       "       4950, 5000])"
      ]
     },
     "execution_count": 3,
     "metadata": {},
     "output_type": "execute_result"
    }
   ],
   "source": [
    "monthly_contribs"
   ]
  },
  {
   "cell_type": "code",
   "execution_count": 4,
   "metadata": {},
   "outputs": [],
   "source": [
    "# will be used by pandas apply() in order to determine if each investment combo is valid. \n",
    "def is_valid_investment_params(row):\n",
    "    time_horizon = row[\"horizon\"]\n",
    "    lump_sum = row[\"lump_sum\"]\n",
    "    monthly_contrib = row[\"monthly\"]\n",
    "    \n",
    "    periods = time_horizon * 12\n",
    "    \n",
    "    # not allowed to contribute more than R33,000 per year, so lump sum on its own cannot be greater than this amount.\n",
    "    if lump_sum > 33000:\n",
    "        return False\n",
    "    \n",
    "    # total lifetime contributions cannot be greater than R500,000, so let's check that.\n",
    "    if (lump_sum + periods*monthly_contrib) > 500000:\n",
    "        return False\n",
    "\n",
    "    # if the contributions in a single year + the lump sum exceed 33,000, reject the investment option.\n",
    "    yearly_total = lump_sum\n",
    "    total = yearly_total\n",
    "    for i in range(1, int(periods)+1):\n",
    "        yearly_total = yearly_total + monthly_contrib\n",
    "        total = total + monthly_contrib\n",
    "        \n",
    "        if (yearly_total > 33000) or (total > 500000):\n",
    "            return False\n",
    "        \n",
    "        if i % 12 == 0:\n",
    "            yearly_total = 0\n",
    "    return True"
   ]
  },
  {
   "cell_type": "code",
   "execution_count": 5,
   "metadata": {},
   "outputs": [],
   "source": [
    "# numpy meshgrid allows us to create a matrix of all combinations of our input arrays\n",
    "investment_options = np.stack(np.meshgrid(time_horizons, return_rates, lump_sums, monthly_contribs), -1).reshape(-1, 4)\n",
    "\n",
    "df = pd.DataFrame(investment_options, columns=[\"horizon\", \"rate\", \"lump_sum\", \"monthly\"])\n",
    "df.horizon = df.horizon.astype(\"int64\")\n",
    "df.lump_sum = df.lump_sum.astype(\"int64\")\n",
    "df.monthly = df.monthly.astype(\"int64\")"
   ]
  },
  {
   "cell_type": "code",
   "execution_count": 6,
   "metadata": {},
   "outputs": [],
   "source": [
    "def assign_risk(col):\n",
    "    if col == 0.0721: return 'low'\n",
    "    if col == 0.0993: return 'low-medium'\n",
    "    if col == 0.1218: return 'medium'\n",
    "    if col == 0.1659: return 'medium-high'\n",
    "    if col == 0.18: return 'high'\n",
    "    \n",
    "df[\"risk\"] = df[\"rate\"].apply(assign_risk)"
   ]
  },
  {
   "cell_type": "code",
   "execution_count": 7,
   "metadata": {},
   "outputs": [
    {
     "name": "stdout",
     "output_type": "stream",
     "text": [
      "<class 'pandas.core.frame.DataFrame'>\n",
      "RangeIndex: 3055250 entries, 0 to 3055249\n",
      "Data columns (total 5 columns):\n",
      "horizon     int64\n",
      "rate        float64\n",
      "lump_sum    int64\n",
      "monthly     int64\n",
      "risk        object\n",
      "dtypes: float64(1), int64(3), object(1)\n",
      "memory usage: 116.5+ MB\n"
     ]
    }
   ],
   "source": [
    "df.info()"
   ]
  },
  {
   "cell_type": "code",
   "execution_count": 8,
   "metadata": {},
   "outputs": [],
   "source": [
    "# adding too column which indicates whether this combo of params is a valid tax-free investment\n",
    "df[\"valid\"] = df.apply(is_valid_investment_params, axis=1)   \n",
    "\n",
    "# calculaing the future value using numpy fv() \n",
    "df[\"fv\"] = -np.round(np.fv(df[\"rate\"]/12, nper=df[\"horizon\"]*12, pmt=df[\"monthly\"], pv=df[\"lump_sum\"], when='end'), 2)"
   ]
  },
  {
   "cell_type": "code",
   "execution_count": 9,
   "metadata": {},
   "outputs": [
    {
     "data": {
      "text/html": [
       "<div>\n",
       "<style scoped>\n",
       "    .dataframe tbody tr th:only-of-type {\n",
       "        vertical-align: middle;\n",
       "    }\n",
       "\n",
       "    .dataframe tbody tr th {\n",
       "        vertical-align: top;\n",
       "    }\n",
       "\n",
       "    .dataframe thead th {\n",
       "        text-align: right;\n",
       "    }\n",
       "</style>\n",
       "<table border=\"1\" class=\"dataframe\">\n",
       "  <thead>\n",
       "    <tr style=\"text-align: right;\">\n",
       "      <th></th>\n",
       "      <th>horizon</th>\n",
       "      <th>rate</th>\n",
       "      <th>lump_sum</th>\n",
       "      <th>monthly</th>\n",
       "      <th>risk</th>\n",
       "      <th>valid</th>\n",
       "      <th>fv</th>\n",
       "    </tr>\n",
       "  </thead>\n",
       "  <tbody>\n",
       "    <tr>\n",
       "      <th>0</th>\n",
       "      <td>1</td>\n",
       "      <td>0.0721</td>\n",
       "      <td>0</td>\n",
       "      <td>0</td>\n",
       "      <td>low</td>\n",
       "      <td>True</td>\n",
       "      <td>-0.00</td>\n",
       "    </tr>\n",
       "    <tr>\n",
       "      <th>1</th>\n",
       "      <td>1</td>\n",
       "      <td>0.0721</td>\n",
       "      <td>0</td>\n",
       "      <td>50</td>\n",
       "      <td>low</td>\n",
       "      <td>True</td>\n",
       "      <td>620.23</td>\n",
       "    </tr>\n",
       "    <tr>\n",
       "      <th>2</th>\n",
       "      <td>1</td>\n",
       "      <td>0.0721</td>\n",
       "      <td>0</td>\n",
       "      <td>100</td>\n",
       "      <td>low</td>\n",
       "      <td>True</td>\n",
       "      <td>1240.46</td>\n",
       "    </tr>\n",
       "    <tr>\n",
       "      <th>3</th>\n",
       "      <td>1</td>\n",
       "      <td>0.0721</td>\n",
       "      <td>0</td>\n",
       "      <td>150</td>\n",
       "      <td>low</td>\n",
       "      <td>True</td>\n",
       "      <td>1860.69</td>\n",
       "    </tr>\n",
       "    <tr>\n",
       "      <th>4</th>\n",
       "      <td>1</td>\n",
       "      <td>0.0721</td>\n",
       "      <td>0</td>\n",
       "      <td>200</td>\n",
       "      <td>low</td>\n",
       "      <td>True</td>\n",
       "      <td>2480.92</td>\n",
       "    </tr>\n",
       "  </tbody>\n",
       "</table>\n",
       "</div>"
      ],
      "text/plain": [
       "   horizon    rate  lump_sum  monthly risk  valid       fv\n",
       "0        1  0.0721         0        0  low   True    -0.00\n",
       "1        1  0.0721         0       50  low   True   620.23\n",
       "2        1  0.0721         0      100  low   True  1240.46\n",
       "3        1  0.0721         0      150  low   True  1860.69\n",
       "4        1  0.0721         0      200  low   True  2480.92"
      ]
     },
     "execution_count": 9,
     "metadata": {},
     "output_type": "execute_result"
    }
   ],
   "source": [
    "df.head()"
   ]
  },
  {
   "cell_type": "code",
   "execution_count": 10,
   "metadata": {},
   "outputs": [
    {
     "name": "stdout",
     "output_type": "stream",
     "text": [
      "0\n"
     ]
    },
    {
     "data": {
      "text/plain": [
       "50 Years    611050\n",
       "40 Years    611050\n",
       "30 Years    611050\n",
       "20 Years    305525\n",
       "15 Years    305525\n",
       "10 Years    305525\n",
       "5 Years     183315\n",
       "2 Years     122210\n",
       "Name: horizon_cat, dtype: int64"
      ]
     },
     "execution_count": 10,
     "metadata": {},
     "output_type": "execute_result"
    }
   ],
   "source": [
    "labels = [\"2 Years\", \"5 Years\", \"10 Years\", \"15 Years\", \"20 Years\", \"30 Years\", \"40 Years\", \"50 Years\"]\n",
    "bins = [0, 2, 5, 10, 15, 20, 30, 40, 50]\n",
    "df[\"horizon_cat\"] = pd.cut(df.horizon, bins=bins, labels=labels)\n",
    "print(df.horizon_cat.isnull().sum())\n",
    "df.horizon_cat.value_counts()"
   ]
  },
  {
   "cell_type": "code",
   "execution_count": 11,
   "metadata": {},
   "outputs": [
    {
     "name": "stdout",
     "output_type": "stream",
     "text": [
      "0\n"
     ]
    },
    {
     "data": {
      "text/plain": [
       "0-R5K        530250\n",
       "R25K-R30K    505000\n",
       "R20K-R25K    505000\n",
       "R15K-20K     505000\n",
       "R10K-R15K    505000\n",
       "R5K-R10K     505000\n",
       "Name: lump_sum_cat, dtype: int64"
      ]
     },
     "execution_count": 11,
     "metadata": {},
     "output_type": "execute_result"
    }
   ],
   "source": [
    "labels=[\"0-R5K\", \"R5K-R10K\", \"R10K-R15K\", \"R15K-20K\", \"R20K-R25K\", \"R25K-R30K\"]\n",
    "df[\"lump_sum_cat\"] = pd.qcut(df.lump_sum, 6, labels=labels)\n",
    "print(df.lump_sum_cat.isnull().sum())\n",
    "df.lump_sum_cat.value_counts()"
   ]
  },
  {
   "cell_type": "code",
   "execution_count": 12,
   "metadata": {},
   "outputs": [
    {
     "name": "stdout",
     "output_type": "stream",
     "text": [
      "0\n"
     ]
    },
    {
     "data": {
      "text/plain": [
       "R2K-R2.5K    363000\n",
       "0-R500       363000\n",
       "R4.5K-R5K    332750\n",
       "R3.5K-R4K    332750\n",
       "R3K-R3.5K    332750\n",
       "R2.5K-R3K    332750\n",
       "R1.5K-R2K    332750\n",
       "R1K-R1.5K    332750\n",
       "R500-R1K     332750\n",
       "Name: monthly_cat, dtype: int64"
      ]
     },
     "execution_count": 12,
     "metadata": {},
     "output_type": "execute_result"
    }
   ],
   "source": [
    "labels=[\"0-R500\", \"R500-R1K\", \"R1K-R1.5K\", \"R1.5K-R2K\", \"R2K-R2.5K\", \"R2.5K-R3K\", \"R3K-R3.5K\", \"R3.5K-R4K\", \"R4.5K-R5K\"]\n",
    "df[\"monthly_cat\"] = pd.qcut(df.monthly, 9, labels=labels)\n",
    "print(df.monthly_cat.isnull().sum())\n",
    "df.monthly_cat.value_counts()"
   ]
  },
  {
   "cell_type": "code",
   "execution_count": 13,
   "metadata": {},
   "outputs": [],
   "source": [
    "cols = [\"horizon\", \"horizon_cat\", \"lump_sum\", \"lump_sum_cat\", \"monthly\", \"monthly_cat\", \"rate\", \"risk\", \"fv\", \"valid\"]\n",
    "df = df[cols]"
   ]
  },
  {
   "cell_type": "code",
   "execution_count": 14,
   "metadata": {},
   "outputs": [
    {
     "data": {
      "text/plain": [
       "0"
      ]
     },
     "execution_count": 14,
     "metadata": {},
     "output_type": "execute_result"
    }
   ],
   "source": [
    "df.duplicated().sum()"
   ]
  },
  {
   "cell_type": "code",
   "execution_count": 15,
   "metadata": {},
   "outputs": [
    {
     "name": "stdout",
     "output_type": "stream",
     "text": [
      "(2310825, 10) (744425, 10)\n"
     ]
    }
   ],
   "source": [
    "data_invalid = df[df.valid==False]\n",
    "data = df[df.valid==True]\n",
    "print(data_invalid.shape, data.shape)"
   ]
  },
  {
   "cell_type": "code",
   "execution_count": 16,
   "metadata": {},
   "outputs": [
    {
     "data": {
      "text/html": [
       "<div>\n",
       "<style scoped>\n",
       "    .dataframe tbody tr th:only-of-type {\n",
       "        vertical-align: middle;\n",
       "    }\n",
       "\n",
       "    .dataframe tbody tr th {\n",
       "        vertical-align: top;\n",
       "    }\n",
       "\n",
       "    .dataframe thead th {\n",
       "        text-align: right;\n",
       "    }\n",
       "</style>\n",
       "<table border=\"1\" class=\"dataframe\">\n",
       "  <thead>\n",
       "    <tr style=\"text-align: right;\">\n",
       "      <th></th>\n",
       "      <th>horizon</th>\n",
       "      <th>horizon_cat</th>\n",
       "      <th>lump_sum</th>\n",
       "      <th>lump_sum_cat</th>\n",
       "      <th>monthly</th>\n",
       "      <th>monthly_cat</th>\n",
       "      <th>rate</th>\n",
       "      <th>risk</th>\n",
       "      <th>fv</th>\n",
       "      <th>valid</th>\n",
       "    </tr>\n",
       "  </thead>\n",
       "  <tbody>\n",
       "    <tr>\n",
       "      <th>277346</th>\n",
       "      <td>23</td>\n",
       "      <td>30 Years</td>\n",
       "      <td>21000</td>\n",
       "      <td>R20K-R25K</td>\n",
       "      <td>0</td>\n",
       "      <td>0-R500</td>\n",
       "      <td>0.0721</td>\n",
       "      <td>low</td>\n",
       "      <td>109712.19</td>\n",
       "      <td>True</td>\n",
       "    </tr>\n",
       "    <tr>\n",
       "      <th>496218</th>\n",
       "      <td>41</td>\n",
       "      <td>50 Years</td>\n",
       "      <td>18250</td>\n",
       "      <td>R15K-20K</td>\n",
       "      <td>250</td>\n",
       "      <td>0-R500</td>\n",
       "      <td>0.0721</td>\n",
       "      <td>low</td>\n",
       "      <td>1098916.77</td>\n",
       "      <td>True</td>\n",
       "    </tr>\n",
       "    <tr>\n",
       "      <th>1442710</th>\n",
       "      <td>19</td>\n",
       "      <td>20 Years</td>\n",
       "      <td>1500</td>\n",
       "      <td>0-R5K</td>\n",
       "      <td>1300</td>\n",
       "      <td>R1K-R1.5K</td>\n",
       "      <td>0.1218</td>\n",
       "      <td>medium</td>\n",
       "      <td>1167643.55</td>\n",
       "      <td>True</td>\n",
       "    </tr>\n",
       "    <tr>\n",
       "      <th>1248975</th>\n",
       "      <td>3</td>\n",
       "      <td>5 Years</td>\n",
       "      <td>6000</td>\n",
       "      <td>R5K-R10K</td>\n",
       "      <td>450</td>\n",
       "      <td>0-R500</td>\n",
       "      <td>0.1218</td>\n",
       "      <td>medium</td>\n",
       "      <td>28068.78</td>\n",
       "      <td>True</td>\n",
       "    </tr>\n",
       "    <tr>\n",
       "      <th>156153</th>\n",
       "      <td>13</td>\n",
       "      <td>15 Years</td>\n",
       "      <td>23500</td>\n",
       "      <td>R20K-R25K</td>\n",
       "      <td>350</td>\n",
       "      <td>0-R500</td>\n",
       "      <td>0.0721</td>\n",
       "      <td>low</td>\n",
       "      <td>149883.41</td>\n",
       "      <td>True</td>\n",
       "    </tr>\n",
       "    <tr>\n",
       "      <th>77873</th>\n",
       "      <td>7</td>\n",
       "      <td>10 Years</td>\n",
       "      <td>11250</td>\n",
       "      <td>R10K-R15K</td>\n",
       "      <td>100</td>\n",
       "      <td>0-R500</td>\n",
       "      <td>0.0721</td>\n",
       "      <td>low</td>\n",
       "      <td>29492.07</td>\n",
       "      <td>True</td>\n",
       "    </tr>\n",
       "    <tr>\n",
       "      <th>2237977</th>\n",
       "      <td>34</td>\n",
       "      <td>40 Years</td>\n",
       "      <td>3750</td>\n",
       "      <td>0-R5K</td>\n",
       "      <td>950</td>\n",
       "      <td>R500-R1K</td>\n",
       "      <td>0.1659</td>\n",
       "      <td>medium-high</td>\n",
       "      <td>19566575.45</td>\n",
       "      <td>True</td>\n",
       "    </tr>\n",
       "    <tr>\n",
       "      <th>586817</th>\n",
       "      <td>49</td>\n",
       "      <td>50 Years</td>\n",
       "      <td>500</td>\n",
       "      <td>0-R5K</td>\n",
       "      <td>350</td>\n",
       "      <td>0-R500</td>\n",
       "      <td>0.0721</td>\n",
       "      <td>low</td>\n",
       "      <td>1931292.81</td>\n",
       "      <td>True</td>\n",
       "    </tr>\n",
       "    <tr>\n",
       "      <th>923750</th>\n",
       "      <td>26</td>\n",
       "      <td>30 Years</td>\n",
       "      <td>17750</td>\n",
       "      <td>R15K-20K</td>\n",
       "      <td>200</td>\n",
       "      <td>0-R500</td>\n",
       "      <td>0.0993</td>\n",
       "      <td>low-medium</td>\n",
       "      <td>524184.21</td>\n",
       "      <td>True</td>\n",
       "    </tr>\n",
       "    <tr>\n",
       "      <th>1394325</th>\n",
       "      <td>15</td>\n",
       "      <td>15 Years</td>\n",
       "      <td>2750</td>\n",
       "      <td>0-R5K</td>\n",
       "      <td>1000</td>\n",
       "      <td>R500-R1K</td>\n",
       "      <td>0.1218</td>\n",
       "      <td>medium</td>\n",
       "      <td>525135.66</td>\n",
       "      <td>True</td>\n",
       "    </tr>\n",
       "  </tbody>\n",
       "</table>\n",
       "</div>"
      ],
      "text/plain": [
       "         horizon horizon_cat  lump_sum lump_sum_cat  monthly monthly_cat  \\\n",
       "277346        23    30 Years     21000    R20K-R25K        0      0-R500   \n",
       "496218        41    50 Years     18250     R15K-20K      250      0-R500   \n",
       "1442710       19    20 Years      1500        0-R5K     1300   R1K-R1.5K   \n",
       "1248975        3     5 Years      6000     R5K-R10K      450      0-R500   \n",
       "156153        13    15 Years     23500    R20K-R25K      350      0-R500   \n",
       "77873          7    10 Years     11250    R10K-R15K      100      0-R500   \n",
       "2237977       34    40 Years      3750        0-R5K      950    R500-R1K   \n",
       "586817        49    50 Years       500        0-R5K      350      0-R500   \n",
       "923750        26    30 Years     17750     R15K-20K      200      0-R500   \n",
       "1394325       15    15 Years      2750        0-R5K     1000    R500-R1K   \n",
       "\n",
       "           rate         risk           fv  valid  \n",
       "277346   0.0721          low    109712.19   True  \n",
       "496218   0.0721          low   1098916.77   True  \n",
       "1442710  0.1218       medium   1167643.55   True  \n",
       "1248975  0.1218       medium     28068.78   True  \n",
       "156153   0.0721          low    149883.41   True  \n",
       "77873    0.0721          low     29492.07   True  \n",
       "2237977  0.1659  medium-high  19566575.45   True  \n",
       "586817   0.0721          low   1931292.81   True  \n",
       "923750   0.0993   low-medium    524184.21   True  \n",
       "1394325  0.1218       medium    525135.66   True  "
      ]
     },
     "execution_count": 16,
     "metadata": {},
     "output_type": "execute_result"
    }
   ],
   "source": [
    "data.sample(10)"
   ]
  },
  {
   "cell_type": "code",
   "execution_count": 17,
   "metadata": {},
   "outputs": [],
   "source": [
    "data.to_csv('taxfree_investment_options.csv', index=False)"
   ]
  },
  {
   "cell_type": "markdown",
   "metadata": {},
   "source": [
    "# Do Monthly Contributions Matter?"
   ]
  },
  {
   "cell_type": "markdown",
   "metadata": {},
   "source": []
  },
  {
   "cell_type": "markdown",
   "metadata": {},
   "source": [
    "# Do Lump Sums Matter?"
   ]
  },
  {
   "cell_type": "markdown",
   "metadata": {},
   "source": []
  },
  {
   "cell_type": "markdown",
   "metadata": {},
   "source": [
    "# Does Risk Matter?"
   ]
  },
  {
   "cell_type": "markdown",
   "metadata": {},
   "source": []
  },
  {
   "cell_type": "markdown",
   "metadata": {},
   "source": [
    "# Bigger Lump Sum/Smaller Monthly Contribution or Smaller Lump Sum/Bigger Monthly Contribution"
   ]
  },
  {
   "cell_type": "markdown",
   "metadata": {},
   "source": []
  },
  {
   "cell_type": "markdown",
   "metadata": {},
   "source": [
    "# Putting It All Together"
   ]
  },
  {
   "cell_type": "markdown",
   "metadata": {},
   "source": [
    "## Options for Saving R250K"
   ]
  },
  {
   "cell_type": "markdown",
   "metadata": {},
   "source": []
  },
  {
   "cell_type": "markdown",
   "metadata": {},
   "source": [
    "## Options for Saving R500K"
   ]
  },
  {
   "cell_type": "markdown",
   "metadata": {},
   "source": []
  },
  {
   "cell_type": "markdown",
   "metadata": {},
   "source": [
    "## Options for Saving R1M"
   ]
  },
  {
   "cell_type": "markdown",
   "metadata": {},
   "source": []
  },
  {
   "cell_type": "markdown",
   "metadata": {},
   "source": [
    "## Options for Saving R2M"
   ]
  },
  {
   "cell_type": "markdown",
   "metadata": {},
   "source": []
  },
  {
   "cell_type": "markdown",
   "metadata": {},
   "source": [
    "## Options for Saving R5M"
   ]
  },
  {
   "cell_type": "markdown",
   "metadata": {},
   "source": []
  },
  {
   "cell_type": "markdown",
   "metadata": {},
   "source": [
    "## Options for Saving R10M"
   ]
  },
  {
   "cell_type": "markdown",
   "metadata": {},
   "source": []
  },
  {
   "cell_type": "markdown",
   "metadata": {},
   "source": [
    "# Summary & Next Steps"
   ]
  },
  {
   "cell_type": "markdown",
   "metadata": {},
   "source": []
  }
 ],
 "metadata": {
  "kernelspec": {
   "display_name": "Python 3",
   "language": "python",
   "name": "python3"
  },
  "language_info": {
   "codemirror_mode": {
    "name": "ipython",
    "version": 3
   },
   "file_extension": ".py",
   "mimetype": "text/x-python",
   "name": "python",
   "nbconvert_exporter": "python",
   "pygments_lexer": "ipython3",
   "version": "3.6.6"
  },
  "toc": {
   "base_numbering": 1,
   "nav_menu": {},
   "number_sections": true,
   "sideBar": true,
   "skip_h1_title": false,
   "title_cell": "Table of Contents",
   "title_sidebar": "Contents",
   "toc_cell": false,
   "toc_position": {},
   "toc_section_display": true,
   "toc_window_display": false
  }
 },
 "nbformat": 4,
 "nbformat_minor": 2
}
